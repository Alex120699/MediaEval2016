{
 "cells": [
  {
   "cell_type": "code",
   "execution_count": 1,
   "id": "123ee198",
   "metadata": {},
   "outputs": [],
   "source": [
    "import os\n",
    "import shutil"
   ]
  },
  {
   "cell_type": "code",
   "execution_count": null,
   "id": "00dc3c53",
   "metadata": {},
   "outputs": [],
   "source": []
  },
  {
   "cell_type": "code",
   "execution_count": 2,
   "id": "a453a2ce",
   "metadata": {},
   "outputs": [],
   "source": [
    "#INDICAR ORIGEN DE LOS DATOS Y DESTINO\n",
    "path_origen = \"D:\\MediaEval2016\\devset\" #Debe contener las carpetas img(#1,2,3...) con las imagenes (training)\n",
    "path_origen_test = r\"D:\\MediaEval2016\\testset\"  #Debe contener las carpetas img(#1,2,3...)\n",
    "path_destino = \"D:\\MediaEval2016\" #Aqui se creará la carpeta Dades"
   ]
  },
  {
   "cell_type": "code",
   "execution_count": 3,
   "id": "7c81268d",
   "metadata": {},
   "outputs": [
    {
     "data": {
      "text/plain": [
       "['D:\\\\MediaEval2016\\\\Dades/images',\n",
       " 'D:\\\\MediaEval2016\\\\Dades/descriptores',\n",
       " 'D:\\\\MediaEval2016\\\\Dades/clusterings',\n",
       " 'D:\\\\MediaEval2016\\\\Dades/resultados']"
      ]
     },
     "execution_count": 3,
     "metadata": {},
     "output_type": "execute_result"
    }
   ],
   "source": [
    "path = path_destino\n",
    "path_dades = path + \"\\Dades\"\n",
    "path_images = path_dades + r\"/images\"\n",
    "path_resultados = path_dades + r\"/resultados\"\n",
    "path_descriptores = path_dades + r\"/descriptores\"\n",
    "path_clusterings = path_dades + r\"/clusterings\"\n",
    "\n",
    "list_path=[path_images,path_descriptores,path_clusterings,path_resultados]\n",
    "list_path"
   ]
  },
  {
   "cell_type": "code",
   "execution_count": 4,
   "id": "2692b99d",
   "metadata": {},
   "outputs": [
    {
     "name": "stdout",
     "output_type": "stream",
     "text": [
      "La carpeta Dades ya existe\n"
     ]
    }
   ],
   "source": [
    "#Aqui creamos la carpeta Dades y sus subcarpetas\n",
    "if os.path.isdir(path_dades):\n",
    "    print(f\"La carpeta Dades ya existe\")\n",
    "else:\n",
    "    os.mkdir(path_dades)\n",
    "path=path_dades\n",
    "for paths in list_path:\n",
    "    if os.path.isdir(paths):\n",
    "        pass\n",
    "    else:\n",
    "        os.mkdir(paths)"
   ]
  },
  {
   "cell_type": "code",
   "execution_count": 5,
   "id": "1cb92986",
   "metadata": {},
   "outputs": [],
   "source": [
    "#Aqui creamos las subcarpetas de la carpeta images\n",
    "path=path_images\n",
    "for folds in [\"collection\",\"gt\",\"negativas\",\"negativas_old\",\"qrels\",\"targets\"]:\n",
    "    paths=path+\"/\"+folds\n",
    "    if os.path.isdir(paths):\n",
    "        pass\n",
    "    else:\n",
    "        os.mkdir(paths)"
   ]
  },
  {
   "cell_type": "code",
   "execution_count": 8,
   "id": "ae5bbfaa",
   "metadata": {},
   "outputs": [],
   "source": [
    "#Aqui creamos todas las carpetas de topics y se transfieren las imagenes del origen. Muy costoso, compilar solo una vez.\n",
    "contador_topics=0\n",
    "for i in range(14):\n",
    "    if i+1<8: #DevSet\n",
    "        for topic in os.listdir(path_origen+\"/\" + f\"img(#{i+1})\"):\n",
    "            contador_topics+=1\n",
    "            src_folder=path_origen+\"/\" + f\"img(#{i+1})\"+\"/\"+topic\n",
    "            dst_folder=path_images+\"/collection\"+f\"/topic{contador_topics}\"\n",
    "            path=path_images\n",
    "            if os.path.isdir(dst_folder):\n",
    "                pass\n",
    "            else:\n",
    "                os.mkdir(dst_folder)\n",
    "            for image in os.listdir(src_folder):\n",
    "                src_file=src_folder+\"/\"+image\n",
    "                dst_file=dst_folder+\"/\"+image\n",
    "                shutil.copyfile(src_file, dst_file)\n",
    "    if i+1>=8: #TestSet\n",
    "        for topic in os.listdir(path_origen_test+\"/\" + f\"img(#{i+1-7})\"):\n",
    "            contador_topics+=1\n",
    "            src_folder=path_origen_test+\"/\" + f\"img(#{i+1-7})\"+\"/\"+topic\n",
    "            dst_folder=path_images+\"/collection\"+f\"/topic{contador_topics}\"\n",
    "            path=path_images\n",
    "            if os.path.isdir(dst_folder):\n",
    "                pass\n",
    "            else:\n",
    "                os.mkdir(dst_folder)\n",
    "            for image in os.listdir(src_folder):\n",
    "                src_file=src_folder+\"/\"+image\n",
    "                dst_file=dst_folder+\"/\"+image\n",
    "                shutil.copyfile(src_file, dst_file)"
   ]
  },
  {
   "cell_type": "code",
   "execution_count": 122,
   "id": "3fe6fcc3",
   "metadata": {},
   "outputs": [],
   "source": [
    "#Aqui movemos la carpeta gt desde el origen a nuestra carpeta images de Dades\n",
    "for fold in os.listdir(path_origen+\"/gt\"):\n",
    "    src_folder=path_origen+\"/gt\"+\"/\"+fold\n",
    "    dst_folder=path_images+\"/gt\"+\"/\"+fold\n",
    "    path=path_images+\"/gt\"\n",
    "    if os.path.isdir(dst_folder):\n",
    "        pass\n",
    "    else:\n",
    "        os.mkdir(dst_folder)\n",
    "    for file in os.listdir(src_folder):\n",
    "        src_file=src_folder+\"/\"+file\n",
    "        dst_file=dst_folder+\"/\"+file\n",
    "        shutil.copyfile(src_file, dst_file)"
   ]
  },
  {
   "cell_type": "code",
   "execution_count": 126,
   "id": "cc289b14",
   "metadata": {},
   "outputs": [],
   "source": [
    "#Añadiremos a la carpeta descriptores los descriptores de cada topic almacenados en otra carpeta\n",
    "path_origen_descriptores=r\"C:\\Users\\alexc\\OneDrive\\Documentos\\MATEMATICAS\\TFG\\descriptores\"\n",
    "for descriptor in os.listdir(path_origen_descriptores):\n",
    "    src_file=path_origen_descriptores+\"/\"+descriptor\n",
    "    dst_file=path_descriptores+\"/\"+descriptor\n",
    "    shutil.copyfile(src_file,dst_file)"
   ]
  },
  {
   "cell_type": "code",
   "execution_count": 11,
   "id": "8798caf3",
   "metadata": {},
   "outputs": [],
   "source": [
    "#Aqui añadimos a la carpeta clusterings los clusterings textuales almacenados en otra carpeta\n",
    "path_origen_clusterings = r\"C:\\Users\\alexc\\OneDrive\\Documentos\\MATEMATICAS\\TFG\\clusterings\"\n",
    "for cluster_file in os.listdir(path_origen_clusterings):\n",
    "    src_file=path_origen_clusterings+\"/\"+cluster_file\n",
    "    dst_file=path_clusterings+\"/\"+cluster_file\n",
    "    shutil.copyfile(src_file,dst_file)"
   ]
  },
  {
   "cell_type": "code",
   "execution_count": null,
   "id": "56ea0974",
   "metadata": {},
   "outputs": [],
   "source": []
  }
 ],
 "metadata": {
  "kernelspec": {
   "display_name": "Python 3",
   "language": "python",
   "name": "python3"
  },
  "language_info": {
   "codemirror_mode": {
    "name": "ipython",
    "version": 3
   },
   "file_extension": ".py",
   "mimetype": "text/x-python",
   "name": "python",
   "nbconvert_exporter": "python",
   "pygments_lexer": "ipython3",
   "version": "3.8.8"
  }
 },
 "nbformat": 4,
 "nbformat_minor": 5
}
