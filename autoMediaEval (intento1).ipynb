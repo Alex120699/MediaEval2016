{
 "cells": [
  {
   "cell_type": "code",
   "execution_count": 1,
   "id": "d55a0fff",
   "metadata": {},
   "outputs": [],
   "source": [
    "from functions_mediaEval import handles_vars\n",
    "from functions_mediaEval import InfoCluster\n",
    "from functions_mediaEval import abrir_descriptores_mat\n",
    "from functions_mediaEval import seleccionoDescriptoresNeg\n",
    "from functions_mediaEval import GenerarClusteringVisual\n",
    "from functions_mediaEval import seleccionImagenesPositivas\n",
    "from functions_mediaEval import CalculoPesosModelo\n",
    "from functions_mediaEval import AjusteMultiplesModelos\n",
    "from functions_mediaEval import ClustersConImagenes\n",
    "from functions_mediaEval import ActualizarProbabilidadesClusters\n",
    "from functions_mediaEval import metodoOrdenarPorClusters\n",
    "from functions_mediaEval import metodoMediaEval\n",
    "from functions_mediaEval import saveMediaEvalResults"
   ]
  },
  {
   "cell_type": "code",
   "execution_count": 2,
   "id": "2193bfc1",
   "metadata": {},
   "outputs": [],
   "source": [
    "import numpy as np\n",
    "import matplotlib\n",
    "import matplotlib.pyplot as plt\n",
    "import os\n",
    "import pandas as pd\n",
    "from numpy import genfromtxt\n",
    "import sklearn\n",
    "import scipy.io\n",
    "from sklearn.cluster import KMeans\n",
    "import subprocess\n",
    "import csv\n",
    "import sys\n",
    "from PIL import Image"
   ]
  },
  {
   "cell_type": "markdown",
   "id": "346bc546",
   "metadata": {},
   "source": [
    "### Comienza el programa "
   ]
  },
  {
   "cell_type": "markdown",
   "id": "e4b05cc5",
   "metadata": {},
   "source": [
    "#### Inicialización de variables y parámetros "
   ]
  },
  {
   "cell_type": "code",
   "execution_count": 3,
   "id": "e8c5e9ed",
   "metadata": {},
   "outputs": [],
   "source": [
    "handles = handles_vars()"
   ]
  },
  {
   "cell_type": "markdown",
   "id": "968b4205",
   "metadata": {},
   "source": [
    "Selección de directorio de los datos"
   ]
  },
  {
   "cell_type": "code",
   "execution_count": 4,
   "id": "3620c715",
   "metadata": {},
   "outputs": [],
   "source": [
    "handles.Dir = r'D:\\MediaEval2016\\Dades'\n",
    "handles.directorio = handles.Dir+\"/\""
   ]
  },
  {
   "cell_type": "markdown",
   "id": "7343ffa6",
   "metadata": {},
   "source": [
    "Selección de algoritmo:\n",
    "1: Visual\n",
    "3: Multimedia\n",
    "5: Relevance Feedback"
   ]
  },
  {
   "cell_type": "code",
   "execution_count": 5,
   "id": "5ad48563",
   "metadata": {},
   "outputs": [],
   "source": [
    "handles.algoritmo = 3"
   ]
  },
  {
   "cell_type": "markdown",
   "id": "edfce10c",
   "metadata": {},
   "source": [
    "Selección modelo para el ajuste: \"logistic\" , \"vgg19\""
   ]
  },
  {
   "cell_type": "code",
   "execution_count": 6,
   "id": "9ce6baf8",
   "metadata": {},
   "outputs": [],
   "source": [
    "handles.ajuste = \"logistic\""
   ]
  },
  {
   "cell_type": "markdown",
   "id": "4de3f56b",
   "metadata": {},
   "source": [
    "Selección de tipo de Cluster para la selección de imágenes positivas:\n",
    "1: Cluster Visual para seleccionar las imágenes positivas\n",
    "2: Cluster Textual para seleccionar las imágenes positivas\n",
    "3: 5 primeras imágenes de Flickr\n",
    "4: Imágenes centroides a partir de las características visuales\n"
   ]
  },
  {
   "cell_type": "code",
   "execution_count": 7,
   "id": "76cf22a6",
   "metadata": {},
   "outputs": [],
   "source": [
    "tipoClusterSelPos = 1"
   ]
  },
  {
   "cell_type": "markdown",
   "id": "9ef87c6d",
   "metadata": {},
   "source": [
    "Selección de tipo de Cluster para la selección del listado final de imágenes:\n",
    "1: Cluster Visual\n",
    "0: Cluster Textual"
   ]
  },
  {
   "cell_type": "code",
   "execution_count": 8,
   "id": "ed399e43",
   "metadata": {},
   "outputs": [],
   "source": [
    "if handles.algoritmo==1:\n",
    "    ordenCluster = 1\n",
    "else:\n",
    "    ordenCluster = 0"
   ]
  },
  {
   "cell_type": "markdown",
   "id": "ada53355",
   "metadata": {},
   "source": [
    "Selección de imágenes negativas:\n",
    "1: Si hay listado\n",
    "0: Si no hay listado"
   ]
  },
  {
   "cell_type": "code",
   "execution_count": 9,
   "id": "e07f906d",
   "metadata": {},
   "outputs": [],
   "source": [
    "listado_negativas = 0"
   ]
  },
  {
   "cell_type": "markdown",
   "id": "5b7104d7",
   "metadata": {},
   "source": [
    "Selección del número de imágenes negativas a elegir"
   ]
  },
  {
   "cell_type": "code",
   "execution_count": 10,
   "id": "e49cbce4",
   "metadata": {},
   "outputs": [],
   "source": [
    "num_negativas = 10"
   ]
  },
  {
   "cell_type": "markdown",
   "id": "437e6eab",
   "metadata": {},
   "source": [
    "Selección de algoritmo para la selección de las imágenes negativas:\n",
    "1: Las últimas de Flicker\n",
    "2: Las primeras imágenes de otro topic del mismo set (DevSet o TestSet)\n",
    "3: Las negativas de distinto topic del listado de negativas\n",
    "4: Las negativas del mismo topic del listado de negativas"
   ]
  },
  {
   "cell_type": "code",
   "execution_count": 11,
   "id": "13d3ece6",
   "metadata": {},
   "outputs": [],
   "source": [
    "tipo_negativas = 2"
   ]
  },
  {
   "cell_type": "markdown",
   "id": "6ca35e6b",
   "metadata": {},
   "source": [
    "Elección del DevSet y del TestSet"
   ]
  },
  {
   "cell_type": "code",
   "execution_count": 21,
   "id": "ef495ecb",
   "metadata": {},
   "outputs": [],
   "source": [
    "topic_inici = 73\n",
    "topic_final = 73"
   ]
  },
  {
   "cell_type": "markdown",
   "id": "583ed602",
   "metadata": {},
   "source": [
    "Generamos lista con los topics de cada set"
   ]
  },
  {
   "cell_type": "code",
   "execution_count": 22,
   "id": "f379243b",
   "metadata": {},
   "outputs": [],
   "source": [
    "if topic_inici>=1 and topic_inici<=70:\n",
    "    DevSetTopics = scipy.io.loadmat('DevSetTopics.mat')\n",
    "    DevSetTopics_list=[]\n",
    "    for i in range(len(DevSetTopics[\"DevSetTopics\"])):\n",
    "        DevSetTopics_list.append([DevSetTopics[\"DevSetTopics\"][i][0][0][0],DevSetTopics[\"DevSetTopics\"][i][1][0]])\n",
    "else:\n",
    "    TestSetTopics = scipy.io.loadmat('TestSetTopics.mat')\n",
    "    TestSetTopics_list=[]\n",
    "    for i in range(len(TestSetTopics[\"TestSetTopics\"])):\n",
    "        TestSetTopics_list.append([TestSetTopics[\"TestSetTopics\"][i][0][0][0],TestSetTopics[\"TestSetTopics\"][i][1][0]])"
   ]
  },
  {
   "cell_type": "markdown",
   "id": "529edeb2",
   "metadata": {},
   "source": [
    "Almacenamos los resultados en fichero indicado por MediaEval"
   ]
  },
  {
   "cell_type": "code",
   "execution_count": 23,
   "id": "2670e08d",
   "metadata": {},
   "outputs": [],
   "source": [
    "team = \"UNED_UV\"\n",
    "if handles.algoritmo == 1:\n",
    "    run = \"run1\"\n",
    "elif handles.algoritmo == 3:\n",
    "    run = \"run3\"\n",
    "elif handles.algoritmo == 5:\n",
    "    run = \"run5\"\n",
    "    \n",
    "tipo = 'ini_' + str(topic_inici)\n",
    "name = run + \"_\" + team + \"_\" + tipo + \"_prueba72.txt\"\n",
    "filename = os.path.join(handles.Dir,\"resultados\",name)\n",
    "fp = open(filename,\"a\")"
   ]
  },
  {
   "cell_type": "markdown",
   "id": "430cb00f",
   "metadata": {},
   "source": [
    "Seleccionamos el tipo de distancia escogida para el error"
   ]
  },
  {
   "cell_type": "code",
   "execution_count": 24,
   "id": "242e30d5",
   "metadata": {},
   "outputs": [],
   "source": [
    "handles.tipo_distancia = \"seuclidean\""
   ]
  },
  {
   "cell_type": "markdown",
   "id": "59aeb714",
   "metadata": {},
   "source": [
    "Seleccionamos el método para realizar el clustering. \"kmeans18\" o \"kmeans_optimal\""
   ]
  },
  {
   "cell_type": "code",
   "execution_count": 25,
   "id": "e97d4041",
   "metadata": {},
   "outputs": [],
   "source": [
    "handles.clustering = \"kmeans18\""
   ]
  },
  {
   "cell_type": "markdown",
   "id": "55c83e75",
   "metadata": {},
   "source": [
    "Seleccionamos el orden de iniciación:\n",
    "1: Random\n",
    "2: Score Textual"
   ]
  },
  {
   "cell_type": "code",
   "execution_count": 26,
   "id": "3d2f338e",
   "metadata": {},
   "outputs": [],
   "source": [
    "handles.init_order = 2"
   ]
  },
  {
   "cell_type": "markdown",
   "id": "46fc9bd8",
   "metadata": {},
   "source": [
    "Definimos el directorio de R"
   ]
  },
  {
   "cell_type": "code",
   "execution_count": 27,
   "id": "8125385e",
   "metadata": {},
   "outputs": [],
   "source": [
    "handles.Rlocation = 'C:/Program Files/R/R-4.1.1/bin/Rscript'"
   ]
  },
  {
   "cell_type": "markdown",
   "id": "0336c0e6",
   "metadata": {},
   "source": [
    "Iniciamos algunas variables necesarias"
   ]
  },
  {
   "cell_type": "code",
   "execution_count": 28,
   "id": "78ec7ff2",
   "metadata": {},
   "outputs": [],
   "source": [
    "handles.relevance0 = -1"
   ]
  },
  {
   "cell_type": "markdown",
   "id": "be6d066e",
   "metadata": {},
   "source": [
    "#### Comienza el bucle"
   ]
  },
  {
   "cell_type": "code",
   "execution_count": 29,
   "id": "bc645f36",
   "metadata": {
    "scrolled": true
   },
   "outputs": [
    {
     "name": "stdout",
     "output_type": "stream",
     "text": [
      "Procesando Topic 73\n",
      "\n",
      "Comienza el algoritmo\n",
      "v_datos: (315, 50)\n",
      "\n",
      "\n",
      "lista_imag_rel: (315, 1)\n",
      "\n",
      "\n",
      "X_pos: (5, 50)\n",
      "\n",
      "X_neg: (10, 50)\n",
      "\n",
      "y_pos: (5,)\n",
      "\n",
      "y_neg: (10,)\n",
      "\n",
      "X_train: (15, 50)\n",
      "\n",
      "y_train: (15,)\n",
      "\n",
      "Probabilidades test: (300, 2)\n",
      "\n",
      "[[1.59694996e-03 9.98403050e-01]\n",
      " [2.70598929e-03 9.97294011e-01]\n",
      " [9.82248063e-04 9.99017752e-01]\n",
      " [4.31959245e-03 9.95680408e-01]\n",
      " [1.95359629e-03 9.98046404e-01]\n",
      " [2.76596101e-03 9.97234039e-01]\n",
      " [2.88492340e-03 9.97115077e-01]\n",
      " [1.52662523e-03 9.98473375e-01]\n",
      " [8.68974189e-03 9.91310258e-01]\n",
      " [3.20327263e-04 9.99679673e-01]\n",
      " [3.24896863e-02 9.67510314e-01]\n",
      " [9.69595557e-04 9.99030404e-01]\n",
      " [3.23141561e-03 9.96768584e-01]\n",
      " [8.90148197e-02 9.10985180e-01]\n",
      " [6.77380918e-04 9.99322619e-01]\n",
      " [3.48944202e-03 9.96510558e-01]\n",
      " [3.20247723e-03 9.96797523e-01]\n",
      " [1.40757239e-03 9.98592428e-01]\n",
      " [2.54492859e-01 7.45507141e-01]\n",
      " [7.24718307e-02 9.27528169e-01]\n",
      " [9.21036966e-03 9.90789630e-01]\n",
      " [3.06774866e-01 6.93225134e-01]\n",
      " [2.46687618e-01 7.53312382e-01]\n",
      " [4.87975375e-01 5.12024625e-01]\n",
      " [4.73102262e-03 9.95268977e-01]\n",
      " [1.56343277e-02 9.84365672e-01]\n",
      " [3.99474747e-03 9.96005253e-01]\n",
      " [1.37663652e-01 8.62336348e-01]\n",
      " [2.68175753e-04 9.99731824e-01]\n",
      " [6.64880418e-03 9.93351196e-01]\n",
      " [9.12755368e-02 9.08724463e-01]\n",
      " [5.81373896e-02 9.41862610e-01]\n",
      " [3.25409602e-02 9.67459040e-01]\n",
      " [2.54456891e-01 7.45543109e-01]\n",
      " [2.57569444e-01 7.42430556e-01]\n",
      " [1.47064554e-03 9.98529354e-01]\n",
      " [4.50197899e-02 9.54980210e-01]\n",
      " [2.10824270e-01 7.89175730e-01]\n",
      " [1.17228789e-03 9.98827712e-01]\n",
      " [2.33955022e-02 9.76604498e-01]\n",
      " [5.62271492e-02 9.43772851e-01]\n",
      " [3.39746174e-01 6.60253826e-01]\n",
      " [3.57374011e-01 6.42625989e-01]\n",
      " [4.98570629e-03 9.95014294e-01]\n",
      " [1.12963607e-01 8.87036393e-01]\n",
      " [2.17362610e-02 9.78263739e-01]\n",
      " [1.72056319e-03 9.98279437e-01]\n",
      " [4.96774628e-02 9.50322537e-01]\n",
      " [2.30613534e-03 9.97693865e-01]\n",
      " [1.40177644e-01 8.59822356e-01]\n",
      " [1.38975699e-02 9.86102430e-01]\n",
      " [2.78163506e-03 9.97218365e-01]\n",
      " [1.39787174e-02 9.86021283e-01]\n",
      " [1.41542708e-01 8.58457292e-01]\n",
      " [5.74916006e-03 9.94250840e-01]\n",
      " [6.96578100e-02 9.30342190e-01]\n",
      " [1.33145137e-02 9.86685486e-01]\n",
      " [6.95171531e-02 9.30482847e-01]\n",
      " [5.23302883e-03 9.94766971e-01]\n",
      " [1.99572793e-02 9.80042721e-01]\n",
      " [4.86273969e-03 9.95137260e-01]\n",
      " [9.23772986e-02 9.07622701e-01]\n",
      " [9.60697584e-02 9.03930242e-01]\n",
      " [8.55275753e-02 9.14472425e-01]\n",
      " [1.92253296e-01 8.07746704e-01]\n",
      " [1.23090003e-02 9.87691000e-01]\n",
      " [5.37657204e-02 9.46234280e-01]\n",
      " [1.13501596e-03 9.98864984e-01]\n",
      " [8.86916859e-02 9.11308314e-01]\n",
      " [1.82157869e-03 9.98178421e-01]\n",
      " [5.05290947e-03 9.94947091e-01]\n",
      " [4.50240265e-03 9.95497597e-01]\n",
      " [5.99086617e-02 9.40091338e-01]\n",
      " [4.57757761e-02 9.54224224e-01]\n",
      " [1.99683695e-02 9.80031630e-01]\n",
      " [1.75110722e-02 9.82488928e-01]\n",
      " [1.32294462e-02 9.86770554e-01]\n",
      " [9.94942772e-02 9.00505723e-01]\n",
      " [3.59745253e-01 6.40254747e-01]\n",
      " [2.49667844e-02 9.75033216e-01]\n",
      " [2.69049640e-01 7.30950360e-01]\n",
      " [9.21988701e-03 9.90780113e-01]\n",
      " [3.93767728e-02 9.60623227e-01]\n",
      " [3.67483015e-03 9.96325170e-01]\n",
      " [1.27043005e-02 9.87295700e-01]\n",
      " [8.22078721e-02 9.17792128e-01]\n",
      " [2.94772007e-02 9.70522799e-01]\n",
      " [2.85013674e-02 9.71498633e-01]\n",
      " [1.57773459e-03 9.98422265e-01]\n",
      " [8.87261925e-01 1.12738075e-01]\n",
      " [4.16679490e-03 9.95833205e-01]\n",
      " [1.77117064e-03 9.98228829e-01]\n",
      " [3.46305935e-03 9.96536941e-01]\n",
      " [5.30161877e-02 9.46983812e-01]\n",
      " [1.18441663e-02 9.88155834e-01]\n",
      " [2.95587830e-02 9.70441217e-01]\n",
      " [3.24522663e-02 9.67547734e-01]\n",
      " [1.86264149e-02 9.81373585e-01]\n",
      " [2.55676555e-02 9.74432345e-01]\n",
      " [4.26141662e-04 9.99573858e-01]\n",
      " [6.60181907e-03 9.93398181e-01]\n",
      " [2.34415568e-01 7.65584432e-01]\n",
      " [3.55324768e-02 9.64467523e-01]\n",
      " [9.74985510e-03 9.90250145e-01]\n",
      " [1.93372964e-02 9.80662704e-01]\n",
      " [2.86579754e-02 9.71342025e-01]\n",
      " [2.13453374e-03 9.97865466e-01]\n",
      " [6.46364788e-01 3.53635212e-01]\n",
      " [4.96036387e-02 9.50396361e-01]\n",
      " [5.46068816e-02 9.45393118e-01]\n",
      " [8.74089350e-04 9.99125911e-01]\n",
      " [6.80391653e-01 3.19608347e-01]\n",
      " [1.54441763e-02 9.84555824e-01]\n",
      " [1.50168893e-01 8.49831107e-01]\n",
      " [8.80105358e-04 9.99119895e-01]\n",
      " [5.41830097e-01 4.58169903e-01]\n",
      " [6.15535001e-03 9.93844650e-01]\n",
      " [9.00092122e-03 9.90999079e-01]\n",
      " [2.95895571e-01 7.04104429e-01]\n",
      " [7.85620426e-02 9.21437957e-01]\n",
      " [1.85621692e-02 9.81437831e-01]\n",
      " [1.93126623e-03 9.98068734e-01]\n",
      " [2.73216358e-02 9.72678364e-01]\n",
      " [8.72160238e-02 9.12783976e-01]\n",
      " [8.32785873e-04 9.99167214e-01]\n",
      " [7.63686414e-02 9.23631359e-01]\n",
      " [2.53608003e-01 7.46391997e-01]\n",
      " [5.01916143e-03 9.94980839e-01]\n",
      " [3.00186873e-01 6.99813127e-01]\n",
      " [1.53861313e-03 9.98461387e-01]\n",
      " [6.74933407e-01 3.25066593e-01]\n",
      " [3.93348244e-03 9.96066518e-01]\n",
      " [5.59184480e-02 9.44081552e-01]\n",
      " [8.90818562e-03 9.91091814e-01]\n",
      " [6.00407459e-03 9.93995925e-01]\n",
      " [8.74349898e-03 9.91256501e-01]\n",
      " [9.36504188e-03 9.90634958e-01]\n",
      " [4.61249273e-03 9.95387507e-01]\n",
      " [2.98113421e-01 7.01886579e-01]\n",
      " [2.37597043e-02 9.76240296e-01]\n",
      " [4.12711860e-02 9.58728814e-01]\n",
      " [7.78795114e-03 9.92212049e-01]\n",
      " [6.68376426e-02 9.33162357e-01]\n",
      " [1.71730102e-03 9.98282699e-01]\n",
      " [5.73275543e-02 9.42672446e-01]\n",
      " [1.41311785e-02 9.85868821e-01]\n",
      " [8.19551105e-03 9.91804489e-01]\n",
      " [2.40429991e-02 9.75957001e-01]\n",
      " [5.09154042e-01 4.90845958e-01]\n",
      " [2.80554968e-02 9.71944503e-01]\n",
      " [9.50686937e-01 4.93130630e-02]\n",
      " [5.85765680e-03 9.94142343e-01]\n",
      " [2.92329352e-02 9.70767065e-01]\n",
      " [8.28609894e-01 1.71390106e-01]\n",
      " [1.41030922e-01 8.58969078e-01]\n",
      " [1.58569800e-02 9.84143020e-01]\n",
      " [5.70430956e-03 9.94295690e-01]\n",
      " [2.84646131e-01 7.15353869e-01]\n",
      " [6.73881075e-02 9.32611892e-01]\n",
      " [9.36171290e-03 9.90638287e-01]\n",
      " [1.50026580e-01 8.49973420e-01]\n",
      " [1.22835052e-01 8.77164948e-01]\n",
      " [3.18766949e-03 9.96812331e-01]\n",
      " [3.18766949e-03 9.96812331e-01]\n",
      " [9.53368953e-02 9.04663105e-01]\n",
      " [2.44326241e-02 9.75567376e-01]\n",
      " [1.40386894e-03 9.98596131e-01]\n",
      " [1.99576118e-01 8.00423882e-01]\n",
      " [5.33697318e-04 9.99466303e-01]\n",
      " [4.62799274e-01 5.37200726e-01]\n",
      " [2.64711243e-02 9.73528876e-01]\n",
      " [6.63913933e-01 3.36086067e-01]\n",
      " [6.02026770e-04 9.99397973e-01]\n",
      " [5.24729304e-02 9.47527070e-01]\n",
      " [3.20987282e-03 9.96790127e-01]\n",
      " [9.36306441e-04 9.99063694e-01]\n",
      " [1.66151613e-01 8.33848387e-01]\n",
      " [3.55196935e-01 6.44803065e-01]\n",
      " [2.61201344e-02 9.73879866e-01]\n",
      " [5.74567318e-04 9.99425433e-01]\n",
      " [4.99491051e-01 5.00508949e-01]\n",
      " [1.82212103e-03 9.98177879e-01]\n",
      " [6.63593264e-03 9.93364067e-01]\n",
      " [4.36184576e-02 9.56381542e-01]\n",
      " [1.70010027e-02 9.82998997e-01]\n",
      " [1.36046095e-03 9.98639539e-01]\n",
      " [4.15062377e-02 9.58493762e-01]\n",
      " [2.46685718e-02 9.75331428e-01]\n",
      " [1.19527626e-01 8.80472374e-01]\n",
      " [7.91038679e-04 9.99208961e-01]\n",
      " [1.99738201e-01 8.00261799e-01]\n",
      " [1.94129280e-01 8.05870720e-01]\n",
      " [1.07236681e-01 8.92763319e-01]\n",
      " [1.53864515e-01 8.46135485e-01]\n",
      " [1.54246561e-01 8.45753439e-01]\n",
      " [2.05573279e-03 9.97944267e-01]\n",
      " [1.31130719e-02 9.86886928e-01]\n",
      " [7.29268851e-02 9.27073115e-01]\n",
      " [2.24468120e-01 7.75531880e-01]\n",
      " [3.55628558e-02 9.64437144e-01]\n",
      " [2.47893805e-02 9.75210619e-01]\n",
      " [1.36668458e-03 9.98633315e-01]\n",
      " [4.03497868e-03 9.95965021e-01]\n",
      " [7.25106086e-03 9.92748939e-01]\n",
      " [2.56067151e-02 9.74393285e-01]\n",
      " [5.47469181e-03 9.94525308e-01]\n",
      " [3.95779606e-02 9.60422039e-01]\n",
      " [1.78633527e-02 9.82136647e-01]\n",
      " [1.81956754e-01 8.18043246e-01]\n",
      " [1.58631541e-02 9.84136846e-01]\n",
      " [2.45947445e-02 9.75405255e-01]\n",
      " [2.23694487e-03 9.97763055e-01]\n",
      " [1.49860556e-01 8.50139444e-01]\n",
      " [2.81721832e-02 9.71827817e-01]\n",
      " [3.74551723e-02 9.62544828e-01]\n",
      " [1.29689332e-02 9.87031067e-01]\n",
      " [2.01434024e-01 7.98565976e-01]\n",
      " [3.33294749e-02 9.66670525e-01]\n",
      " [3.38109594e-03 9.96618904e-01]\n",
      " [2.24354243e-02 9.77564576e-01]\n",
      " [4.37177496e-02 9.56282250e-01]\n",
      " [6.23033251e-02 9.37696675e-01]\n",
      " [1.82661369e-02 9.81733863e-01]\n",
      " [2.53627257e-01 7.46372743e-01]\n",
      " [6.37663320e-02 9.36233668e-01]\n",
      " [1.22817308e-04 9.99877183e-01]\n",
      " [1.68726932e-03 9.98312731e-01]\n",
      " [7.10386291e-03 9.92896137e-01]\n",
      " [6.02221095e-03 9.93977789e-01]\n",
      " [6.23724225e-01 3.76275775e-01]\n",
      " [7.62794682e-02 9.23720532e-01]\n",
      " [2.56559434e-01 7.43440566e-01]\n",
      " [7.25967808e-02 9.27403219e-01]\n",
      " [1.87494076e-02 9.81250592e-01]\n",
      " [1.84495351e-02 9.81550465e-01]\n",
      " [2.35026700e-01 7.64973300e-01]\n",
      " [5.52391974e-03 9.94476080e-01]\n",
      " [6.55408327e-01 3.44591673e-01]\n",
      " [2.26879861e-01 7.73120139e-01]\n",
      " [3.45665307e-01 6.54334693e-01]\n",
      " [1.47034339e-01 8.52965661e-01]\n",
      " [2.47787906e-01 7.52212094e-01]\n",
      " [2.77694780e-01 7.22305220e-01]\n",
      " [4.28982978e-01 5.71017022e-01]\n",
      " [4.47541170e-01 5.52458830e-01]\n",
      " [4.00277471e-02 9.59972253e-01]\n",
      " [9.88547423e-01 1.14525772e-02]\n",
      " [2.20192989e-02 9.77980701e-01]\n",
      " [3.96349193e-03 9.96036508e-01]\n",
      " [1.89785376e-03 9.98102146e-01]\n",
      " [2.39497113e-03 9.97605029e-01]\n",
      " [3.60363988e-03 9.96396360e-01]\n",
      " [2.51120687e-02 9.74887931e-01]\n",
      " [2.06857036e-01 7.93142964e-01]\n",
      " [2.23689321e-03 9.97763107e-01]\n",
      " [7.04041835e-02 9.29595817e-01]\n",
      " [2.27985523e-01 7.72014477e-01]\n",
      " [6.94111235e-04 9.99305889e-01]\n",
      " [3.34085441e-02 9.66591456e-01]\n",
      " [2.55925831e-02 9.74407417e-01]\n",
      " [3.35136578e-03 9.96648634e-01]\n",
      " [2.47783364e-02 9.75221664e-01]\n",
      " [6.02490818e-02 9.39750918e-01]\n",
      " [1.87788072e-03 9.98122119e-01]\n",
      " [1.21158313e-03 9.98788417e-01]\n",
      " [1.61108619e-02 9.83889138e-01]\n",
      " [8.49490167e-04 9.99150510e-01]\n",
      " [2.00575114e-01 7.99424886e-01]\n",
      " [8.83155327e-03 9.91168447e-01]\n",
      " [4.00368318e-03 9.95996317e-01]\n",
      " [6.28424286e-03 9.93715757e-01]\n",
      " [1.57348939e-02 9.84265106e-01]\n",
      " [2.45692498e-02 9.75430750e-01]\n",
      " [6.55574585e-02 9.34442541e-01]\n",
      " [2.05840519e-01 7.94159481e-01]\n",
      " [3.44644334e-03 9.96553557e-01]\n",
      " [3.99709736e-03 9.96002903e-01]\n",
      " [4.56420990e-01 5.43579010e-01]\n",
      " [4.67258678e-03 9.95327413e-01]\n",
      " [4.12466212e-03 9.95875338e-01]\n",
      " [1.17604110e-01 8.82395890e-01]\n",
      " [1.87288319e-01 8.12711681e-01]\n",
      " [2.16301222e-01 7.83698778e-01]\n",
      " [1.62871093e-02 9.83712891e-01]\n",
      " [2.41778007e-02 9.75822199e-01]\n",
      " [6.53183847e-02 9.34681615e-01]\n",
      " [2.55087978e-01 7.44912022e-01]\n",
      " [4.44653435e-02 9.55534657e-01]\n",
      " [1.07169730e-02 9.89283027e-01]\n",
      " [8.07470347e-03 9.91925297e-01]\n",
      " [2.02160123e-03 9.97978399e-01]\n",
      " [8.81033612e-03 9.91189664e-01]\n",
      " [2.42526787e-02 9.75747321e-01]\n",
      " [2.21057031e-03 9.97789430e-01]\n",
      " [2.62152724e-02 9.73784728e-01]\n",
      " [8.44204073e-01 1.55795927e-01]\n",
      " [2.93637374e-02 9.70636263e-01]\n",
      " [5.86785666e-03 9.94132143e-01]\n",
      " [1.32507693e-01 8.67492307e-01]\n",
      " [3.48264743e-03 9.96517353e-01]]\n"
     ]
    },
    {
     "ename": "UnboundLocalError",
     "evalue": "local variable 'v_componentesModelo' referenced before assignment",
     "output_type": "error",
     "traceback": [
      "\u001b[1;31m---------------------------------------------------------------------------\u001b[0m",
      "\u001b[1;31mUnboundLocalError\u001b[0m                         Traceback (most recent call last)",
      "\u001b[1;32m~\\AppData\\Local\\Temp/ipykernel_6476/1754874148.py\u001b[0m in \u001b[0;36m<module>\u001b[1;34m\u001b[0m\n\u001b[0;32m    113\u001b[0m     \u001b[1;32melif\u001b[0m \u001b[0mhandles\u001b[0m\u001b[1;33m.\u001b[0m\u001b[0malgoritmo\u001b[0m \u001b[1;33m==\u001b[0m \u001b[1;36m3\u001b[0m\u001b[1;33m:\u001b[0m \u001b[1;31m#Multimedia OrdenCluster (textual o visual)\u001b[0m\u001b[1;33m\u001b[0m\u001b[1;33m\u001b[0m\u001b[0m\n\u001b[0;32m    114\u001b[0m         \u001b[0mprint\u001b[0m\u001b[1;33m(\u001b[0m\u001b[1;34m\"Comienza el algoritmo\"\u001b[0m\u001b[1;33m)\u001b[0m\u001b[1;33m\u001b[0m\u001b[1;33m\u001b[0m\u001b[0m\n\u001b[1;32m--> 115\u001b[1;33m         \u001b[0mhandles\u001b[0m \u001b[1;33m=\u001b[0m \u001b[0mmetodoMediaEval\u001b[0m\u001b[1;33m(\u001b[0m\u001b[0mhandles\u001b[0m\u001b[1;33m,\u001b[0m\u001b[0mordenCluster\u001b[0m\u001b[1;33m)\u001b[0m\u001b[1;33m\u001b[0m\u001b[1;33m\u001b[0m\u001b[0m\n\u001b[0m\u001b[0;32m    116\u001b[0m         \u001b[0mprint\u001b[0m\u001b[1;33m(\u001b[0m\u001b[1;34m\"Algoritmo terminado\"\u001b[0m\u001b[1;33m)\u001b[0m\u001b[1;33m\u001b[0m\u001b[1;33m\u001b[0m\u001b[0m\n\u001b[0;32m    117\u001b[0m     \u001b[1;32melif\u001b[0m \u001b[0mhandles\u001b[0m\u001b[1;33m.\u001b[0m\u001b[0malgoritmo\u001b[0m \u001b[1;33m==\u001b[0m \u001b[1;36m5\u001b[0m\u001b[1;33m:\u001b[0m\u001b[1;33m\u001b[0m\u001b[1;33m\u001b[0m\u001b[0m\n",
      "\u001b[1;32m~\\OneDrive\\Documentos\\MATEMATICAS\\TFG\\codigoMediaEval2016\\codigoMediaEval2016\\functions_mediaEval.py\u001b[0m in \u001b[0;36mmetodoMediaEval\u001b[1;34m(handles, runvisual)\u001b[0m\n\u001b[0;32m    574\u001b[0m \u001b[1;33m\u001b[0m\u001b[0m\n\u001b[0;32m    575\u001b[0m     \u001b[1;31m#Ajustamos un modelo en R con los v_datos como matriz X de entrenamiento y lista_imag_rel como Y a predecir\u001b[0m\u001b[1;33m\u001b[0m\u001b[1;33m\u001b[0m\u001b[1;33m\u001b[0m\u001b[0m\n\u001b[1;32m--> 576\u001b[1;33m     \u001b[0mvect_prob\u001b[0m\u001b[1;33m,\u001b[0m\u001b[0mv_componentesModelo\u001b[0m \u001b[1;33m=\u001b[0m \u001b[0mAjusteMultiplesModelos\u001b[0m\u001b[1;33m(\u001b[0m\u001b[0mv_datos\u001b[0m\u001b[1;33m,\u001b[0m\u001b[0mlista_imag_rel\u001b[0m\u001b[1;33m,\u001b[0m\u001b[0mRlocation\u001b[0m\u001b[1;33m,\u001b[0m\u001b[0mhandles\u001b[0m\u001b[1;33m.\u001b[0m\u001b[0majuste\u001b[0m\u001b[1;33m)\u001b[0m\u001b[1;33m\u001b[0m\u001b[1;33m\u001b[0m\u001b[0m\n\u001b[0m\u001b[0;32m    577\u001b[0m \u001b[1;33m\u001b[0m\u001b[0m\n\u001b[0;32m    578\u001b[0m     \u001b[0mpesos\u001b[0m \u001b[1;33m=\u001b[0m \u001b[0mCalculoPesosModelo\u001b[0m\u001b[1;33m(\u001b[0m\u001b[0mhandles\u001b[0m\u001b[1;33m.\u001b[0m\u001b[0mvariances_pca\u001b[0m\u001b[1;33m,\u001b[0m\u001b[0mv_componentesModelo\u001b[0m\u001b[1;33m)\u001b[0m\u001b[1;33m\u001b[0m\u001b[1;33m\u001b[0m\u001b[0m\n",
      "\u001b[1;32m~\\OneDrive\\Documentos\\MATEMATICAS\\TFG\\codigoMediaEval2016\\codigoMediaEval2016\\functions_mediaEval.py\u001b[0m in \u001b[0;36mAjusteMultiplesModelos\u001b[1;34m(v_datos, lista_imag_rel, Rlocation, ajuste)\u001b[0m\n\u001b[0;32m    401\u001b[0m \u001b[1;33m\u001b[0m\u001b[0m\n\u001b[0;32m    402\u001b[0m \u001b[1;33m\u001b[0m\u001b[0m\n\u001b[1;32m--> 403\u001b[1;33m     \u001b[1;32mreturn\u001b[0m \u001b[0mvect_prob\u001b[0m\u001b[1;33m,\u001b[0m\u001b[0mv_componentesModelo\u001b[0m\u001b[1;33m\u001b[0m\u001b[1;33m\u001b[0m\u001b[0m\n\u001b[0m\u001b[0;32m    404\u001b[0m \u001b[1;33m\u001b[0m\u001b[0m\n\u001b[0;32m    405\u001b[0m \u001b[1;33m\u001b[0m\u001b[0m\n",
      "\u001b[1;31mUnboundLocalError\u001b[0m: local variable 'v_componentesModelo' referenced before assignment"
     ]
    }
   ],
   "source": [
    "for topic in range(topic_inici,topic_final+1):\n",
    "    if topic == 124:\n",
    "        continue\n",
    "\n",
    "    print(f\"Procesando Topic {topic}\\n\")\n",
    "    handles.topic = topic\n",
    "    if topic>=1 and topic<=70:\n",
    "        handles.nametopic = DevSetTopics_list[topic-1][1]\n",
    "    elif topic>=71 and topic<=135:\n",
    "        handles.nametopic = TestSetTopics_list[topic-1-70][1]\n",
    "        \n",
    "    #Cargamos los descriptores\n",
    "    name_fmat = os.path.join(handles.Dir,\"descriptores\",\"topic\"+str(topic)+\".mat\")\n",
    "    names,datosImagenes,st,variances_pca = abrir_descriptores_mat(name_fmat)\n",
    "    \n",
    "    handles.st= st;\n",
    "    handles.variances_pca = variances_pca\n",
    "    \n",
    "    #Ordenamos los datos\n",
    "    \n",
    "    fil,col = datosImagenes.shape\n",
    "    ids_st = st[:,0]\n",
    "    idsImagenes = datosImagenes[:,0]\n",
    "    posis=[]\n",
    "    for ids in ids_st:\n",
    "        pos = np.argwhere(ids==idsImagenes)[0][1]\n",
    "        posis.append(pos)\n",
    "    \n",
    "    handles.datosImagenes = datosImagenes[posis,:]\n",
    "    handles.datos = handles.datosImagenes\n",
    "\n",
    "    \n",
    "    #Leemos el fichero de clustering\n",
    "    \n",
    "    dirClusters = os.path.join(handles.Dir,\"clusterings/\")\n",
    "    theclusterings = os.listdir(dirClusters)\n",
    "    enc = False\n",
    "    for cluster in theclusterings:\n",
    "        expregular = str(topic)+\"-\"\n",
    "        if cluster.startswith(expregular):\n",
    "            enc = True\n",
    "            break\n",
    "    if enc:\n",
    "        datoscluster = pd.read_csv(os.path.join(dirClusters,cluster),sep=\"\\t\")\n",
    "        handles.datosclusters = np.array(datoscluster)\n",
    "    else:\n",
    "        print(\"No se encuentra el fichero de clusterings\")\n",
    "    \n",
    "    #En caso que hayamos seleccionado listado_neg=1 tendremos que abrir el fichero con las imagenes negativas\n",
    "    \n",
    "    #if listado_neg==1:\n",
    "        #handles= leerListadoNeg(hObject=1,eventdata=1,handles);\n",
    "    #end\n",
    "    \n",
    "    #Como hemos seleccionado generar las imagenes negativas, \n",
    "    #tipo_negativas = 2 Las primeras imágenes de otro topic del mismo set (DevSet o TestSet)\n",
    "    handles,descNR = seleccionoDescriptoresNeg(handles,num_negativas,tipo_negativas)\n",
    "    fil_neg,col_neg = descNR.shape\n",
    "    #Per si no tenim tantes negatives com voliem\n",
    "    if fil_neg<num_negativas:\n",
    "        num_negativas = fil_neg\n",
    "    \n",
    "    #Ahora que tenemos las imágenes negativas, queremos seleccionar las positivas.\n",
    "    if tipoClusterSelPos == 1 or tipoClusterSelPos ==2:\n",
    "        handles = seleccionImagenesPositivas(handles,tipoClusterSelPos,listado_negativas)\n",
    "    elif tipoClusterSelPos == 3:\n",
    "        print(\"Todavia no esta implementado la seleccion de imagenes positivas tipo 3\")\n",
    "    elif tipoClusterSelPos == 4:\n",
    "        print(\"Todavia no esta implementado la seleccion de imagenes positivas tipo 4\")\n",
    "    \n",
    "    filas,colum = handles.datos.shape\n",
    "    filas_queries,colum_queries = handles.queries.shape\n",
    "    \n",
    "    #Actualizamos las variables de ImaRel\n",
    "    handles.imaRel = handles.relevance0*np.ones((filas+filas_queries,1))\n",
    "    handles.imaRel[filas:] = 0\n",
    "    tam = handles.imaRel.shape[0]\n",
    "    handles.imaRelHistorico = -1*np.ones((tam,1))\n",
    "    handles.imaProb = np.ones((filas+filas_queries,1))\n",
    "    handles.imaProb1 = np.ones((filas+filas_queries,1))\n",
    "    handles.imaProb2 = np.ones((filas+filas_queries,1))\n",
    "    handles.imaProbHistoria = []\n",
    "    \n",
    "    #Cambio los id de las queries para diferenciarlas de su copia en handles.datos\n",
    "    maxi = handles.datos[:,0].max()\n",
    "    for i in range(filas_queries):\n",
    "        handles.queries[i,0] = maxi+1+i\n",
    "        \n",
    "    #Añadimos los descriptores negativos al principio de handles.datos\n",
    "    handles.datosyneg = np.vstack((descNR,handles.datos))\n",
    "    handles.negativas = descNR\n",
    "    \n",
    "    #Aqui se podria hacer pca pero no la hacemos\n",
    "    \n",
    "    #Calculamos la distancia entre todas las imagenes, para ello añadimos las queries con sus descriptores al final de los datos\n",
    "    handles.datosyqueries = np.vstack((handles.datos,handles.queries))\n",
    "    losdescrip = handles.datosyqueries[:,2:]\n",
    "    \n",
    "    #Creo copias de datos y datosyqueries por si luego se modifican no afectar a las originales\n",
    "    handles.datosorden = handles.datos\n",
    "    handles.datosyqueriesorden = np.vstack((handles.datos,handles.queries))\n",
    "    \n",
    "    #Iniciamos las varibles segun 1: Aleatorio 2: Por el score textual\n",
    "    #if handles.init_order == 1:\n",
    "        #print(\"No se ha desarrollado el init_order = 1\")\n",
    "    #elif handles.init_order = 2:\n",
    "        #Al estar ordenados no tiene mucho sentido\n",
    "    \n",
    "    #COMIENZA EL ALGORITMO\n",
    "    if handles.algoritmo == 1: #Solo visual + cluster visual + regresion lineal\n",
    "        print(\"Este algoritmo no está implementado\")\n",
    "        #metodoMediaEval(handles,ordenCluster)\n",
    "    elif handles.algoritmo == 3: #Multimedia OrdenCluster (textual o visual)\n",
    "        print(\"Comienza el algoritmo\")\n",
    "        handles = metodoMediaEval(handles,ordenCluster)\n",
    "        print(\"Algoritmo terminado\")\n",
    "    elif handles.algoritmo == 5:\n",
    "        print(\"Este algoritmo no está implementado\\n\")\n",
    "        \n",
    "    #Guardamos los resultados\n",
    "    saveMediaEvalResults(handles,fp)\n",
    "\n",
    "fp.close()"
   ]
  },
  {
   "cell_type": "code",
   "execution_count": 22,
   "id": "17330d0c",
   "metadata": {},
   "outputs": [],
   "source": [
    "a = np.ones(10)\n",
    "a[:5]=0"
   ]
  },
  {
   "cell_type": "code",
   "execution_count": 23,
   "id": "2c16e448",
   "metadata": {},
   "outputs": [
    {
     "data": {
      "text/plain": [
       "array([1., 1., 1., 1., 1.])"
      ]
     },
     "execution_count": 23,
     "metadata": {},
     "output_type": "execute_result"
    }
   ],
   "source": [
    "a[a==1]"
   ]
  },
  {
   "cell_type": "code",
   "execution_count": 24,
   "id": "4f55c26b",
   "metadata": {},
   "outputs": [
    {
     "data": {
      "text/plain": [
       "array([0., 0., 0., 0., 0.])"
      ]
     },
     "execution_count": 24,
     "metadata": {},
     "output_type": "execute_result"
    }
   ],
   "source": [
    "a[np.where(a==0)]"
   ]
  },
  {
   "cell_type": "code",
   "execution_count": 25,
   "id": "7c7bda8c",
   "metadata": {},
   "outputs": [],
   "source": [
    "v_datos = handles.datosyqueriesynegativasorden[:,2:]"
   ]
  },
  {
   "cell_type": "code",
   "execution_count": 26,
   "id": "5b778826",
   "metadata": {},
   "outputs": [],
   "source": [
    "lista_imag_rel = np.ones((315,1))*-1"
   ]
  },
  {
   "cell_type": "code",
   "execution_count": 29,
   "id": "59202ba8",
   "metadata": {},
   "outputs": [
    {
     "data": {
      "text/plain": [
       "(315,)"
      ]
     },
     "execution_count": 29,
     "metadata": {},
     "output_type": "execute_result"
    }
   ],
   "source": [
    "np.where(lista_imag_rel==-1)[0].shape"
   ]
  },
  {
   "cell_type": "code",
   "execution_count": null,
   "id": "3dfc2670",
   "metadata": {},
   "outputs": [],
   "source": []
  }
 ],
 "metadata": {
  "kernelspec": {
   "display_name": "Python 3",
   "language": "python",
   "name": "python3"
  },
  "language_info": {
   "codemirror_mode": {
    "name": "ipython",
    "version": 3
   },
   "file_extension": ".py",
   "mimetype": "text/x-python",
   "name": "python",
   "nbconvert_exporter": "python",
   "pygments_lexer": "ipython3",
   "version": "3.8.8"
  }
 },
 "nbformat": 4,
 "nbformat_minor": 5
}
